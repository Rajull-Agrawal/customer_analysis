{
 "cells": [
  {
   "cell_type": "code",
   "execution_count": 1,
   "id": "59ceba84-e6b4-498d-9a1c-5975a98114ce",
   "metadata": {},
   "outputs": [],
   "source": [
    "#importing findspark\n",
    "import findspark\n",
    "findspark.init()"
   ]
  },
  {
   "cell_type": "code",
   "execution_count": 2,
   "id": "976d7dbd-859d-4257-bf7f-cdc7a6fef992",
   "metadata": {},
   "outputs": [],
   "source": [
    "# importing pyspark ependencies\n",
    "import pandas\n",
    "from pyspark.sql import SparkSession\n",
    "from pyspark.sql.functions import udf, col\n",
    "from pyspark.sql.types import StringType\n",
    "from datetime import datetime\n",
    "from pyspark.sql.functions import *\n",
    "import pgeocode"
   ]
  },
  {
   "cell_type": "code",
   "execution_count": 3,
   "id": "5b502b2d-f0b8-4020-bc1c-5492c7c8f943",
   "metadata": {},
   "outputs": [],
   "source": [
    "# making a spark session\n",
    "sparkContext = SparkSession.builder \\\n",
    "    .appName(\"Final\") \\\n",
    "    .config(\"spark.executor.memory\", \"10g\") \\\n",
    "    .config(\"spark.executor.cores\", \"8\") \\\n",
    "    .getOrCreate()"
   ]
  },
  {
   "cell_type": "code",
   "execution_count": 4,
   "id": "8a9a05a1-8852-4785-8526-75cbd5f325df",
   "metadata": {},
   "outputs": [],
   "source": [
    "# reading data\n",
    "\n",
    "customerProduct_df = sparkContext.read.csv(\"file:///C:/Users/sarth/OneDrive/Desktop/Datasets/Final_CSV/Customer_Product_modified.csv\", inferSchema=True, header=True)\n",
    "customerChannel_df = sparkContext.read.csv(\"file:///C:/Users/sarth/OneDrive/Desktop/Datasets/Final_CSV/Customer_Channel_Activity_modified.csv\", inferSchema=True, header=True)\n",
    "customerDemographic_df = sparkContext.read.csv(\"file:///C:/Users/sarth/OneDrive/Desktop/Datasets/Final_CSV/customer_demographic_modified.csv\", inferSchema=True, header=True)\n",
    "customerTransaction_df = sparkContext.read.csv(\"file:///C:/Users/sarth/OneDrive/Desktop/Datasets/Final_CSV/Customer_Transaction_history_modified.csv\", inferSchema=True, header=True)\n",
    "productLookup_df = sparkContext.read.csv(\"file:///C:/Users/sarth/OneDrive/Desktop/Datasets/Final_CSV/Product_Lookup_modified.csv\", inferSchema=True, header=True)"
   ]
  },
  {
   "cell_type": "code",
   "execution_count": 5,
   "id": "59ad6827-365f-4063-8d57-2f1c37e3abec",
   "metadata": {},
   "outputs": [
    {
     "name": "stdout",
     "output_type": "stream",
     "text": [
      "customer Product count :  200000\n",
      "customer Channel count :  575986\n",
      "customer Demographic count :  200000\n",
      "customer Transaction count :  760982\n",
      "product Lookup count :  41\n"
     ]
    }
   ],
   "source": [
    "# checking count of each dataframes\n",
    "print(\"customer Product count : \",customerProduct_df.count())\n",
    "print(\"customer Channel count : \",customerChannel_df.count())\n",
    "print(\"customer Demographic count : \",customerDemographic_df.count())\n",
    "print(\"customer Transaction count : \",customerTransaction_df.count())\n",
    "print(\"product Lookup count : \",productLookup_df.count())"
   ]
  },
  {
   "cell_type": "code",
   "execution_count": 6,
   "id": "f58ae1d7-50b5-4573-aa8c-d9a08fa4f56e",
   "metadata": {},
   "outputs": [],
   "source": [
    "from datetime import datetime\n",
    "\n",
    "def convert_to_standard_date(date_str):\n",
    "    # Define possible date formats\n",
    "    date_formats = [\n",
    "        \"%d/%m/%Y\",\n",
    "        \"%m/%d/%Y\",       \n",
    "        \"%Y/%m/%d\",\n",
    "        \"%d %B %Y\",       \n",
    "        \"%Y-%m-%d\",       \n",
    "        \"%d-%m-%Y\",\n",
    "        \"%m-%d-%Y\",\n",
    "        \"%m/%d/%Y\"  \n",
    "    ]\n",
    "    \n",
    "    for date_format in date_formats:\n",
    "        try:\n",
    "            parsed_date = datetime.strptime(date_str, date_format)\n",
    "            return parsed_date.strftime(\"%Y-%m-%d\")\n",
    "        except ValueError:\n",
    "            continue\n",
    "    \n",
    "    raise ValueError(f\"Date format not recognized: {date_str}\")\n",
    "\n",
    "# Test the function with provided date examples\n",
    "date_examples = [\n",
    "    \"2/11/1998\",\n",
    "    \"10 September 2010\",\n",
    "    \"2024-01-25\",\n",
    "    \"2012/01/25\",\n",
    "    \"12/17/2021\"  # Added example with problematic format\n",
    "]"
   ]
  },
  {
   "cell_type": "code",
   "execution_count": 7,
   "id": "9adcd3a5-c759-45ff-908d-e2460da83956",
   "metadata": {},
   "outputs": [
    {
     "name": "stdout",
     "output_type": "stream",
     "text": [
      "root\n",
      " |-- CSID: long (nullable = true)\n",
      " |-- Prod code: integer (nullable = true)\n",
      " |-- start date: string (nullable = true)\n",
      " |-- End date: string (nullable = true)\n",
      "\n"
     ]
    }
   ],
   "source": [
    "customerProduct_df.printSchema()\n",
    "convert_to_standard_date_udf = udf(lambda date_str: convert_to_standard_date(date_str), StringType())"
   ]
  },
  {
   "cell_type": "code",
   "execution_count": 8,
   "id": "f3c30371-098c-4e0b-afca-609f000e628d",
   "metadata": {},
   "outputs": [],
   "source": [
    "customerProduct_df = customerProduct_df.withColumn(\"start date\", convert_to_standard_date_udf(col(\"start date\")))\n",
    "customerProduct_df = customerProduct_df.withColumn(\"end date\", convert_to_standard_date_udf(col(\"end date\")))\n",
    "productLookup_df = productLookup_df.withColumn(\"end date\", convert_to_standard_date_udf(col(\"end date\")))\n",
    "productLookup_df = productLookup_df.withColumn(\"end date\", convert_to_standard_date_udf(col(\"end date\")))\n",
    "customerTransaction_df = customerTransaction_df.withColumn(\"Trans Date\", convert_to_standard_date_udf(col(\"Trans Date\")))\n",
    "customerDemographic_df = customerDemographic_df.withColumn(\"Birth date\", convert_to_standard_date_udf(col(\"Birth date\")))\n",
    "customerDemographic_df = customerDemographic_df.withColumn(\"Relationship Start date\", convert_to_standard_date_udf(col(\"Relationship Start date\")))\n",
    "customerChannel_df = customerChannel_df.withColumn(\"ActivityDate\", convert_to_standard_date_udf(col(\"ActivityDate\")))\n"
   ]
  },
  {
   "cell_type": "code",
   "execution_count": 9,
   "id": "66836ee8-b5fc-4b78-948d-6429ed7dc61f",
   "metadata": {},
   "outputs": [
    {
     "name": "stdout",
     "output_type": "stream",
     "text": [
      "+----------+------+----------+------+----------+-----------------------+--------------+--------+\n",
      "|      CSID|Income|dependants|Gender|Birth date|Relationship Start date|Marital_Status|Zip_Code|\n",
      "+----------+------+----------+------+----------+-----------------------+--------------+--------+\n",
      "|2345450601|200000|         3|     ?|1976-08-03|             2017-06-08|      Divorced|CH42 0HS|\n",
      "|2345450602|100000|         2|     ?|1963-11-28|             1983-03-08|      Divorced|ME20 6PR|\n",
      "|2345450603|280000|         2|     ?|1979-06-05|             2008-09-01|       Married|OX17 1EQ|\n",
      "|2345450604|300000|         1|     ?|1999-05-09|             2020-12-10|      Divorced| RH7 6LT|\n",
      "|2345450605|150000|         1|  Male|2004-03-31|             2011-03-06|       Married| NW2 7RJ|\n",
      "|2345450606|100000|         3|     ?|1987-02-18|             2002-12-17|        Single| TQ1 3PZ|\n",
      "|2345450607|130000|         2|     M|1961-12-09|             1983-11-27|      Divorced| LU6 3NP|\n",
      "|2345450608|130000|         1|Female|1978-02-23|             1994-11-15|       Married|DA14 6NY|\n",
      "|2345450609|235000|         3|     F|1967-02-02|             1996-08-29|        Single|RH16 2QL|\n",
      "|2345450610|300000|         3|Female|1988-03-13|             2011-04-25|       Married|PO37 6EG|\n",
      "|2345450611|200000|         2|     ?|1975-09-10|             1997-08-01|      Divorced|BB11 4HW|\n",
      "|2345450612|250000|         2|Female|1992-08-12|             2000-01-18|        Single| TN4 9JU|\n",
      "|2345450613|200000|         0|Female|1988-09-17|             2017-06-26|       Widowed|SA67 8QB|\n",
      "|2345450614|500000|         2|  Male|1982-09-11|             2003-05-03|       Married| TA1 4XD|\n",
      "|2345450615|120000|         0|  Male|1991-01-13|             2022-09-18|        Single|WF12 8AZ|\n",
      "|2345450616|150000|         1|     ?|1963-12-24|             1987-12-30|       Married| WA8 9UF|\n",
      "|2345450617|150000|         0|Female|1989-02-10|             2011-12-14|        Single|  B2 4DU|\n",
      "|2345450618|300000|         0|     ?|1992-11-11|             2013-02-28|       Married| LA4 6DA|\n",
      "|2345450619|150000|         2|     ?|1992-10-27|             2004-08-18|       Married| SN3 6DR|\n",
      "|2345450620|250000|         3|     ?|1992-10-27|             1994-03-26|       Married|ME15 8BW|\n",
      "+----------+------+----------+------+----------+-----------------------+--------------+--------+\n",
      "only showing top 20 rows\n",
      "\n"
     ]
    }
   ],
   "source": [
    "customerDemographic_df.show()"
   ]
  },
  {
   "cell_type": "code",
   "execution_count": 10,
   "id": "25c7e352-69f5-4549-a70a-dab4edcb66f1",
   "metadata": {},
   "outputs": [
    {
     "data": {
      "text/plain": [
       "[Row(Gender='F'),\n",
       " Row(Gender='Female'),\n",
       " Row(Gender='M'),\n",
       " Row(Gender='Male'),\n",
       " Row(Gender='?')]"
      ]
     },
     "execution_count": 10,
     "metadata": {},
     "output_type": "execute_result"
    }
   ],
   "source": [
    "customerDemographic_df.select('Gender').distinct().collect()"
   ]
  },
  {
   "cell_type": "code",
   "execution_count": 11,
   "id": "32bcf3d1-6c93-4452-9632-266c38aec6c5",
   "metadata": {},
   "outputs": [],
   "source": [
    "customerDemographic_df = customerDemographic_df.withColumn(\"Gender\", when(col(\"Gender\") == \"M\", \"Male\")\n",
    "                                                           .when(col(\"Gender\") == \"F\", \"Female\")\n",
    "                                                           .when(col(\"Gender\") == \"?\", \"Unknown\")\n",
    "                                                           .otherwise(col(\"Gender\")))\n"
   ]
  },
  {
   "cell_type": "code",
   "execution_count": 12,
   "id": "7cd7f3e5-b62b-46eb-b71a-5d94544f8d64",
   "metadata": {},
   "outputs": [
    {
     "name": "stdout",
     "output_type": "stream",
     "text": [
      "+----------+------+----------+-------+----------+-----------------------+--------------+--------+\n",
      "|      CSID|Income|dependants| Gender|Birth date|Relationship Start date|Marital_Status|Zip_Code|\n",
      "+----------+------+----------+-------+----------+-----------------------+--------------+--------+\n",
      "|2345450601|200000|         3|Unknown|1976-08-03|             2017-06-08|      Divorced|CH42 0HS|\n",
      "|2345450602|100000|         2|Unknown|1963-11-28|             1983-03-08|      Divorced|ME20 6PR|\n",
      "|2345450603|280000|         2|Unknown|1979-06-05|             2008-09-01|       Married|OX17 1EQ|\n",
      "|2345450604|300000|         1|Unknown|1999-05-09|             2020-12-10|      Divorced| RH7 6LT|\n",
      "|2345450605|150000|         1|   Male|2004-03-31|             2011-03-06|       Married| NW2 7RJ|\n",
      "|2345450606|100000|         3|Unknown|1987-02-18|             2002-12-17|        Single| TQ1 3PZ|\n",
      "|2345450607|130000|         2|   Male|1961-12-09|             1983-11-27|      Divorced| LU6 3NP|\n",
      "|2345450608|130000|         1| Female|1978-02-23|             1994-11-15|       Married|DA14 6NY|\n",
      "|2345450609|235000|         3| Female|1967-02-02|             1996-08-29|        Single|RH16 2QL|\n",
      "|2345450610|300000|         3| Female|1988-03-13|             2011-04-25|       Married|PO37 6EG|\n",
      "|2345450611|200000|         2|Unknown|1975-09-10|             1997-08-01|      Divorced|BB11 4HW|\n",
      "|2345450612|250000|         2| Female|1992-08-12|             2000-01-18|        Single| TN4 9JU|\n",
      "|2345450613|200000|         0| Female|1988-09-17|             2017-06-26|       Widowed|SA67 8QB|\n",
      "|2345450614|500000|         2|   Male|1982-09-11|             2003-05-03|       Married| TA1 4XD|\n",
      "|2345450615|120000|         0|   Male|1991-01-13|             2022-09-18|        Single|WF12 8AZ|\n",
      "|2345450616|150000|         1|Unknown|1963-12-24|             1987-12-30|       Married| WA8 9UF|\n",
      "|2345450617|150000|         0| Female|1989-02-10|             2011-12-14|        Single|  B2 4DU|\n",
      "|2345450618|300000|         0|Unknown|1992-11-11|             2013-02-28|       Married| LA4 6DA|\n",
      "|2345450619|150000|         2|Unknown|1992-10-27|             2004-08-18|       Married| SN3 6DR|\n",
      "|2345450620|250000|         3|Unknown|1992-10-27|             1994-03-26|       Married|ME15 8BW|\n",
      "+----------+------+----------+-------+----------+-----------------------+--------------+--------+\n",
      "only showing top 20 rows\n",
      "\n"
     ]
    }
   ],
   "source": [
    "customerDemographic_df.show()"
   ]
  },
  {
   "cell_type": "code",
   "execution_count": 13,
   "id": "f94ab8fb-c789-4322-ad4c-41c6405114a9",
   "metadata": {},
   "outputs": [
    {
     "data": {
      "text/plain": [
       "[Row(Marital_Status='Married'),\n",
       " Row(Marital_Status='Divorced'),\n",
       " Row(Marital_Status='Widowed'),\n",
       " Row(Marital_Status='Single')]"
      ]
     },
     "execution_count": 13,
     "metadata": {},
     "output_type": "execute_result"
    }
   ],
   "source": [
    "customerDemographic_df.select('Marital_Status').distinct().collect()"
   ]
  },
  {
   "cell_type": "code",
   "execution_count": 14,
   "id": "60a16650-4d69-4b8e-b899-2949fa4ed13c",
   "metadata": {},
   "outputs": [],
   "source": [
    "# customerDemographic_df_panda = customerDemographic_df.toPandas()\n",
    "# productLookup_df_panda = productLookup_df.toPandas()\n",
    "# customerTransaction_df_panda = customerTransaction_df.toPandas()\n",
    "# customerProduct_df_panda = customerProduct_df.toPandas()\n",
    "# customerChannel_df_panda = customerChannel_df.toPandas()"
   ]
  },
  {
   "cell_type": "code",
   "execution_count": 15,
   "id": "c1f9173a-07f0-408d-9381-b3f24ef3736c",
   "metadata": {},
   "outputs": [],
   "source": [
    "# customerDemographic_df = customerDemographic_df_panda.to_csv('customerDemographic.csv', index = True) \n",
    "# productLookup_df = productLookup_df_panda.to_csv('productLookup.csv', index = True) \n",
    "# customerTransaction_df = customerTransaction_df_panda.to_csv('customerTransaction.csv', index = True) \n",
    "# customerProduct_df = customerProduct_df_panda.to_csv('customerProduct.csv', index = True) \n",
    "# customerChannel_df = customerChannel_df_panda.to_csv('customerChannel.csv', index = True) "
   ]
  },
  {
   "cell_type": "code",
   "execution_count": 16,
   "id": "da6c39b8-6675-4d4c-b821-01af99625153",
   "metadata": {},
   "outputs": [],
   "source": [
    "# Define the function to get state from postal code for Great Britain\n",
    "def get_state_from_postal_code(postal_code):\n",
    "    nomi = pgeocode.Nominatim('GB')\n",
    "    location = nomi.query_postal_code(postal_code)\n",
    "    if location is not None and not location.empty:\n",
    "        return location.state_name\n",
    "    else:\n",
    "        return None\n",
    "\n",
    "# Register the function as a UDF\n",
    "get_state_udf = udf(lambda z: get_state_from_postal_code(z), StringType())\n"
   ]
  },
  {
   "cell_type": "code",
   "execution_count": 17,
   "id": "744741f0-0e90-4444-8c14-8abdb5ce3242",
   "metadata": {},
   "outputs": [
    {
     "name": "stdout",
     "output_type": "stream",
     "text": [
      "+----------+------+----------+-------+----------+-----------------------+--------------+--------+----------------+\n",
      "|      CSID|Income|dependants| Gender|Birth date|Relationship Start date|Marital_Status|Zip_Code|           State|\n",
      "+----------+------+----------+-------+----------+-----------------------+--------------+--------+----------------+\n",
      "|2345450601|200000|         3|Unknown|1976-08-03|             2017-06-08|      Divorced|CH42 0HS|         England|\n",
      "|2345450602|100000|         2|Unknown|1963-11-28|             1983-03-08|      Divorced|ME20 6PR|         England|\n",
      "|2345450603|280000|         2|Unknown|1979-06-05|             2008-09-01|       Married|OX17 1EQ|         England|\n",
      "|2345450604|300000|         1|Unknown|1999-05-09|             2020-12-10|      Divorced| RH7 6LT|         England|\n",
      "|2345450605|150000|         1|   Male|2004-03-31|             2011-03-06|       Married| NW2 7RJ|         England|\n",
      "|2345450606|100000|         3|Unknown|1987-02-18|             2002-12-17|        Single| TQ1 3PZ|         England|\n",
      "|2345450607|130000|         2|   Male|1961-12-09|             1983-11-27|      Divorced| LU6 3NP|         England|\n",
      "|2345450608|130000|         1| Female|1978-02-23|             1994-11-15|       Married|DA14 6NY|         England|\n",
      "|2345450609|235000|         3| Female|1967-02-02|             1996-08-29|        Single|RH16 2QL|         England|\n",
      "|2345450610|300000|         3| Female|1988-03-13|             2011-04-25|       Married|PO37 6EG|         England|\n",
      "|2345450611|200000|         2|Unknown|1975-09-10|             1997-08-01|      Divorced|BB11 4HW|         England|\n",
      "|2345450612|250000|         2| Female|1992-08-12|             2000-01-18|        Single| TN4 9JU|         England|\n",
      "|2345450613|200000|         0| Female|1988-09-17|             2017-06-26|       Widowed|SA67 8QB|           Wales|\n",
      "|2345450614|500000|         2|   Male|1982-09-11|             2003-05-03|       Married| TA1 4XD|         England|\n",
      "|2345450615|120000|         0|   Male|1991-01-13|             2022-09-18|        Single|WF12 8AZ|         England|\n",
      "|2345450616|150000|         1|Unknown|1963-12-24|             1987-12-30|       Married| WA8 9UF|         England|\n",
      "|2345450617|150000|         0| Female|1989-02-10|             2011-12-14|        Single|  B2 4DU|         England|\n",
      "|2345450618|300000|         0|Unknown|1992-11-11|             2013-02-28|       Married| LA4 6DA|         England|\n",
      "|2345450619|150000|         2|Unknown|1992-10-27|             2004-08-18|       Married| SN3 6DR|         England|\n",
      "|2345450620|250000|         3|Unknown|1992-10-27|             1994-03-26|       Married|ME15 8BW|         England|\n",
      "|2345450621|250000|         3|Unknown|2000-12-29|             2019-08-11|      Divorced| SW3 4BL|         England|\n",
      "|2345450622|100000|         3|Unknown|1963-12-23|             2006-08-27|      Divorced|GL10 3BD|         England|\n",
      "|2345450623|280000|         1|Unknown|1994-02-09|             2019-01-29|       Married| GU2 7UN|         England|\n",
      "|2345450624|250000|         2|Unknown|1979-12-27|             2005-05-07|        Single|SO15 3AF|         England|\n",
      "|2345450625|250000|         1|Unknown|1991-01-23|             2011-11-27|       Married| GU1 4PH|         England|\n",
      "|2345450626|120000|         3|Unknown|1990-03-30|             2020-05-28|       Married| G33 5QW|        Scotland|\n",
      "|2345450627|100000|         0| Female|1972-09-22|             2005-11-11|       Widowed|TA12 6FP|         England|\n",
      "|2345450628|100000|         3|Unknown|1981-08-05|             2014-10-25|        Single| BA2 7AU|         England|\n",
      "|2345450629|300000|         0|Unknown|1982-12-27|             1983-03-07|       Married|BN44 3PP|         England|\n",
      "|2345450630|235000|         3|Unknown|2009-05-25|             2015-07-19|        Single|GU32 1JD|         England|\n",
      "|2345450631|200000|         2|Unknown|1995-01-11|             2007-05-21|       Married| CH7 5DY|           Wales|\n",
      "|2345450632|280000|         1|Unknown|1990-07-05|             1998-07-25|      Divorced|NP11 5HT|           Wales|\n",
      "|2345450633|150000|         2| Female|1976-01-18|             2013-02-01|      Divorced|NP20 5FW|           Wales|\n",
      "|2345450634|120000|         0|Unknown|2006-05-18|             2014-09-27|        Single|SA61 1XA|           Wales|\n",
      "|2345450635|235000|         1|Unknown|2003-10-01|             2009-10-14|      Divorced| BR8 8JW|         England|\n",
      "|2345450636|500000|         0| Female|1995-12-06|             1999-05-27|      Divorced|SS15 5ER|         England|\n",
      "|2345450637|150000|         1|Unknown|1968-07-25|             1998-05-27|      Divorced| PO3 6HG|         England|\n",
      "|2345450638|235000|         2| Female|1994-11-05|             2001-06-30|       Married| SG8 0QH|         England|\n",
      "|2345450639|250000|         0| Female|1963-06-06|             1992-05-08|       Widowed| E13 0LA|         England|\n",
      "|2345450640|162000|         0| Female|2006-07-31|             2006-10-28|        Single| TW1 2NP|         England|\n",
      "|2345450641|120000|         2|   Male|1972-05-02|             2001-03-30|       Married|CT18 8JQ|         England|\n",
      "|2345450642|300000|         0|Unknown|1969-03-30|             1990-08-23|      Divorced| HA8 4RY|         England|\n",
      "|2345450643|120000|         0|   Male|1962-02-17|             2023-06-23|       Married| HA3 0QY|         England|\n",
      "|2345450644|250000|         0| Female|1991-03-03|             1999-05-14|      Divorced| SG6 3EQ|         England|\n",
      "|2345450645|300000|         1|Unknown|1972-11-13|             2013-10-14|        Single|WD25 7DR|         England|\n",
      "|2345450646|500000|         3| Female|1963-09-07|             2010-12-28|       Widowed| RH1 4LR|         England|\n",
      "|2345450647|300000|         1| Female|2003-11-02|             2012-01-09|       Married| SE9 6ED|         England|\n",
      "|2345450648|162000|         2|Unknown|1963-05-29|             1996-04-02|      Divorced|NR21 7AL|         England|\n",
      "|2345450649|200000|         1|   Male|1980-10-28|             1995-04-14|       Married|EH47 0NB|        Scotland|\n",
      "|2345450650|130000|         0|Unknown|1970-03-26|             2012-03-09|       Married| CB6 2EZ|         England|\n",
      "|2345450651|120000|         1|Unknown|1999-09-29|             2023-01-07|      Divorced| LN2 5BB|         England|\n",
      "|2345450652|235000|         2|Unknown|1987-11-02|             2004-06-06|       Married|  E1 0BD|         England|\n",
      "|2345450653|130000|         2|   Male|1963-02-16|             1983-11-18|      Divorced| SA2 9LU|           Wales|\n",
      "|2345450654|200000|         0|Unknown|1984-02-14|             1988-06-10|      Divorced| M24 2DQ|         England|\n",
      "|2345450655|235000|         0| Female|1973-07-07|             2012-10-27|        Single| WF8 4SQ|         England|\n",
      "|2345450656|500000|         1|   Male|1995-08-10|             2007-05-15|       Married| M46 0DH|         England|\n",
      "|2345450657|162000|         2|   Male|2007-03-12|             2019-11-07|        Single| W12 0AS|         England|\n",
      "|2345450658|200000|         0| Female|1990-07-05|             2005-11-29|        Single| B70 7DH|         England|\n",
      "|2345450659|162000|         1|   Male|1973-04-05|             2018-08-09|      Divorced| SL7 3FH|         England|\n",
      "|2345450660|120000|         3|   Male|1962-01-19|             1987-01-09|      Divorced| CW1 4QY|         England|\n",
      "|2345450661|200000|         0|Unknown|1993-08-18|             2019-05-14|       Married|PO13 0SU|         England|\n",
      "|2345450662|250000|         1| Female|1982-06-14|             1990-08-24|      Divorced|LL55 2LF|           Wales|\n",
      "|2345450663|100000|         3|Unknown|1971-12-12|             2007-12-29|      Divorced| HU6 9LE|         England|\n",
      "|2345450664|130000|         2|Unknown|1990-06-25|             2022-05-02|       Married|SW15 1PF|         England|\n",
      "|2345450665|130000|         1| Female|1993-11-20|             2002-10-27|        Single| LE3 3UB|         England|\n",
      "|2345450666|500000|         2|Unknown|1978-07-24|             1986-05-03|       Married| BB4 4LR|         England|\n",
      "|2345450667|150000|         1| Female|1999-08-05|             2014-06-27|       Married|GL56 9NQ|         England|\n",
      "|2345450668|150000|         1|Unknown|1998-11-02|             2014-12-30|        Single|PO16 7FJ|         England|\n",
      "|2345450669|300000|         0|   Male|2004-04-12|             2006-06-04|      Divorced| HD6 1TB|         England|\n",
      "|2345450670|120000|         3|Unknown|1982-08-02|             2001-02-05|       Married|NG33 5FD|         England|\n",
      "|2345450671|500000|         2|Unknown|1975-11-20|             2020-02-08|       Married|OL16 5NH|         England|\n",
      "|2345450672|500000|         2|Unknown|1995-04-28|             2012-01-30|        Single| DE5 3JD|         England|\n",
      "|2345450673|250000|         0|Unknown|1992-05-28|             2000-12-18|      Divorced| NW9 6PG|         England|\n",
      "|2345450674|200000|         2|Unknown|2005-01-14|             2023-01-21|       Married|CV13 0JQ|         England|\n",
      "|2345450675|235000|         3|Unknown|1995-04-17|             2017-04-27|      Divorced| OL5 0PT|         England|\n",
      "|2345450676|150000|         0|Unknown|1977-07-13|             1994-09-12|       Married| W1G 9UD|         England|\n",
      "|2345450677|300000|         1|   Male|1986-01-08|             1988-01-03|        Single|YO24 1AH|         England|\n",
      "|2345450678|500000|         1|Unknown|1984-11-11|             2002-09-06|        Single|BS35 2YQ|         England|\n",
      "|2345450679|200000|         2| Female|2009-09-16|             2012-05-26|        Single| DG7 1JN|        Scotland|\n",
      "|2345450680|120000|         0|Unknown|1985-03-22|             1997-01-18|      Divorced| DD3 7NY|        Scotland|\n",
      "|2345450681|300000|         0|Unknown|1997-11-19|             2007-01-28|        Single| BA3 2XU|         England|\n",
      "|2345450682|148000|         3|Unknown|1969-04-14|             2015-11-22|      Divorced|GU14 6HD|         England|\n",
      "|2345450683|120000|         1| Female|2004-03-17|             2020-03-09|        Single|LE14 2HR|         England|\n",
      "|2345450684|300000|         1|Unknown|1997-04-14|             2011-10-02|       Married|LE67 3QX|         England|\n",
      "|2345450685|200000|         3|Unknown|1970-02-06|             2023-07-18|      Divorced| L39 4UG|         England|\n",
      "|2345450686|300000|         3|   Male|1996-04-02|             2001-01-10|        Single|TS15 9AU|         England|\n",
      "|2345450687|280000|         2| Female|1985-04-23|             1985-07-12|       Married|CF11 1SU|           Wales|\n",
      "|2345450688|280000|         3|Unknown|2001-04-22|             2005-08-11|      Divorced|YO15 3AZ|         England|\n",
      "|2345450689|162000|         0|   Male|1964-01-09|             1999-12-08|      Divorced|TA23 0EJ|         England|\n",
      "|2345450690|235000|         3|Unknown|1985-01-28|             2020-05-15|      Divorced|GU21 5JN|         England|\n",
      "|2345450691|300000|         1| Female|2006-10-13|             2007-03-21|        Single|NE23 2FJ|         England|\n",
      "|2345450692|200000|         0|   Male|1971-08-16|             2019-06-29|        Single| L15 3HN|         England|\n",
      "|2345450693|280000|         2|   Male|1975-08-03|             2018-10-24|       Married|SY12 0BE|         England|\n",
      "|2345450694|100000|         2|Unknown|1999-09-17|             2011-09-17|       Married|BT48 8QR|Northern Ireland|\n",
      "|2345450695|200000|         3| Female|1980-08-23|             1982-08-30|      Divorced|EX39 3RG|         England|\n",
      "|2345450696|162000|         1| Female|1999-03-28|             2009-08-26|       Married| HG1 3HB|         England|\n",
      "|2345450697|250000|         1|   Male|1996-01-18|             2017-07-01|      Divorced|KT21 2BY|         England|\n",
      "|2345450698|162000|         1|Unknown|1985-03-29|             2015-09-27|      Divorced| RM9 6PF|         England|\n",
      "|2345450699|130000|         3|Unknown|1973-05-03|             2014-08-06|        Single| NP4 6QE|           Wales|\n",
      "|2345450700|100000|         1|Unknown|1962-04-02|             1987-09-21|      Divorced|WA16 6AR|         England|\n",
      "+----------+------+----------+-------+----------+-----------------------+--------------+--------+----------------+\n",
      "only showing top 100 rows\n",
      "\n"
     ]
    }
   ],
   "source": [
    "customerDemographic_df = customerDemographic_df.withColumn(\"State\", get_state_udf(customerDemographic_df[\"Zip_Code\"]))\n",
    "customerDemographic_df.show(100)"
   ]
  },
  {
   "cell_type": "code",
   "execution_count": 18,
   "id": "f40f41b6-2450-4c11-ab0a-96412f7feb7f",
   "metadata": {},
   "outputs": [],
   "source": [
    "# customerDemographic_df.select(\"Country\").distinct().show(100)"
   ]
  },
  {
   "cell_type": "code",
   "execution_count": null,
   "id": "41a3b48b-1112-4a8e-914c-8fd47ca67735",
   "metadata": {},
   "outputs": [],
   "source": [
    "customerDemographic_df = customerDemographic_df_panda.to_csv('customerDemographic.csv', index = True) "
   ]
  }
 ],
 "metadata": {
  "kernelspec": {
   "display_name": "Python 3 (ipykernel)",
   "language": "python",
   "name": "python3"
  },
  "language_info": {
   "codemirror_mode": {
    "name": "ipython",
    "version": 3
   },
   "file_extension": ".py",
   "mimetype": "text/x-python",
   "name": "python",
   "nbconvert_exporter": "python",
   "pygments_lexer": "ipython3",
   "version": "3.8.19"
  }
 },
 "nbformat": 4,
 "nbformat_minor": 5
}
